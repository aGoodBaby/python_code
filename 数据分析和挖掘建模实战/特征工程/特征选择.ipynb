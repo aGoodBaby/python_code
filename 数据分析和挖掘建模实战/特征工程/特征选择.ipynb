{
 "cells": [
  {
   "cell_type": "code",
   "execution_count": 1,
   "metadata": {},
   "outputs": [],
   "source": [
    "import numpy as np\n",
    "import pandas as pd\n",
    "import scipy.stats as ss"
   ]
  },
  {
   "cell_type": "code",
   "execution_count": 2,
   "metadata": {},
   "outputs": [
    {
     "data": {
      "text/html": [
       "<div>\n",
       "<style scoped>\n",
       "    .dataframe tbody tr th:only-of-type {\n",
       "        vertical-align: middle;\n",
       "    }\n",
       "\n",
       "    .dataframe tbody tr th {\n",
       "        vertical-align: top;\n",
       "    }\n",
       "\n",
       "    .dataframe thead th {\n",
       "        text-align: right;\n",
       "    }\n",
       "</style>\n",
       "<table border=\"1\" class=\"dataframe\">\n",
       "  <thead>\n",
       "    <tr style=\"text-align: right;\">\n",
       "      <th></th>\n",
       "      <th>A</th>\n",
       "      <th>B</th>\n",
       "      <th>C</th>\n",
       "      <th>D</th>\n",
       "    </tr>\n",
       "  </thead>\n",
       "  <tbody>\n",
       "    <tr>\n",
       "      <th>0</th>\n",
       "      <td>-1.006880</td>\n",
       "      <td>-0.336490</td>\n",
       "      <td>0.772741</td>\n",
       "      <td>0</td>\n",
       "    </tr>\n",
       "    <tr>\n",
       "      <th>1</th>\n",
       "      <td>-0.061967</td>\n",
       "      <td>0.671506</td>\n",
       "      <td>0.723823</td>\n",
       "      <td>0</td>\n",
       "    </tr>\n",
       "    <tr>\n",
       "      <th>2</th>\n",
       "      <td>-1.235944</td>\n",
       "      <td>0.231023</td>\n",
       "      <td>0.170056</td>\n",
       "      <td>1</td>\n",
       "    </tr>\n",
       "    <tr>\n",
       "      <th>3</th>\n",
       "      <td>1.296697</td>\n",
       "      <td>0.218315</td>\n",
       "      <td>-0.000289</td>\n",
       "      <td>1</td>\n",
       "    </tr>\n",
       "    <tr>\n",
       "      <th>4</th>\n",
       "      <td>1.724520</td>\n",
       "      <td>-1.069981</td>\n",
       "      <td>1.010903</td>\n",
       "      <td>0</td>\n",
       "    </tr>\n",
       "  </tbody>\n",
       "</table>\n",
       "</div>"
      ],
      "text/plain": [
       "          A         B         C  D\n",
       "0 -1.006880 -0.336490  0.772741  0\n",
       "1 -0.061967  0.671506  0.723823  0\n",
       "2 -1.235944  0.231023  0.170056  1\n",
       "3  1.296697  0.218315 -0.000289  1\n",
       "4  1.724520 -1.069981  1.010903  0"
      ]
     },
     "execution_count": 2,
     "metadata": {},
     "output_type": "execute_result"
    }
   ],
   "source": [
    "df = pd.DataFrame({'A':ss.norm.rvs(size=10),'B':ss.norm.rvs(size=10),\n",
    "                   'C':ss.norm.rvs(size=10),'D':np.random.randint(0,2,10)})\n",
    "df.head()"
   ]
  },
  {
   "cell_type": "code",
   "execution_count": 3,
   "metadata": {},
   "outputs": [],
   "source": [
    "X = df.loc[:,['A','B','C']]\n",
    "Y = df.loc[:,'D']#标注"
   ]
  },
  {
   "cell_type": "code",
   "execution_count": 4,
   "metadata": {},
   "outputs": [],
   "source": [
    "from sklearn.feature_selection import SelectKBest,RFE"
   ]
  },
  {
   "cell_type": "code",
   "execution_count": 5,
   "metadata": {},
   "outputs": [
    {
     "data": {
      "text/plain": [
       "array([[-1.00687952, -0.3364901 ],\n",
       "       [-0.06196715,  0.67150616],\n",
       "       [-1.23594389,  0.23102322],\n",
       "       [ 1.29669725,  0.21831506],\n",
       "       [ 1.72452023, -1.06998145],\n",
       "       [ 0.81277085, -0.73446521],\n",
       "       [ 0.23624252,  1.07362293],\n",
       "       [-0.49464588,  0.55015428],\n",
       "       [-1.9729148 ,  1.86353294],\n",
       "       [ 0.31549655,  0.09378659]])"
      ]
     },
     "execution_count": 5,
     "metadata": {},
     "output_type": "execute_result"
    }
   ],
   "source": [
    "skb = SelectKBest(k=2)\n",
    "skb.fit(X.values,Y.values)\n",
    "skb.transform(X.values)"
   ]
  },
  {
   "cell_type": "code",
   "execution_count": 6,
   "metadata": {},
   "outputs": [
    {
     "data": {
      "text/plain": [
       "array([[-1.00687952, -0.3364901 ],\n",
       "       [-0.06196715,  0.67150616],\n",
       "       [-1.23594389,  0.23102322],\n",
       "       [ 1.29669725,  0.21831506],\n",
       "       [ 1.72452023, -1.06998145],\n",
       "       [ 0.81277085, -0.73446521],\n",
       "       [ 0.23624252,  1.07362293],\n",
       "       [-0.49464588,  0.55015428],\n",
       "       [-1.9729148 ,  1.86353294],\n",
       "       [ 0.31549655,  0.09378659]])"
      ]
     },
     "execution_count": 6,
     "metadata": {},
     "output_type": "execute_result"
    }
   ],
   "source": [
    "from sklearn.svm import SVR\n",
    "rfe = RFE(estimator=SVR(kernel='linear'),n_features_to_select=2,step=1)\n",
    "rfe.fit_transform(X,Y)"
   ]
  },
  {
   "cell_type": "code",
   "execution_count": null,
   "metadata": {},
   "outputs": [],
   "source": []
  }
 ],
 "metadata": {
  "kernelspec": {
   "display_name": "Python 3",
   "language": "python",
   "name": "python3"
  },
  "language_info": {
   "codemirror_mode": {
    "name": "ipython",
    "version": 3
   },
   "file_extension": ".py",
   "mimetype": "text/x-python",
   "name": "python",
   "nbconvert_exporter": "python",
   "pygments_lexer": "ipython3",
   "version": "3.7.6"
  }
 },
 "nbformat": 4,
 "nbformat_minor": 4
}
