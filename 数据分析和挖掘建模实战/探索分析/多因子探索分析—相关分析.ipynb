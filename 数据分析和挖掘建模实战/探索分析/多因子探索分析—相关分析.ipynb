{
 "cells": [
  {
   "cell_type": "code",
   "execution_count": 1,
   "metadata": {},
   "outputs": [],
   "source": [
    "import numpy as np\n",
    "import pandas as pd\n",
    "import scipy.stats as ss\n",
    "import matplotlib.pyplot as plt\n",
    "import seaborn as sns\n",
    "sns.set()\n",
    "import math\n",
    "from sklearn.decomposition import PCA"
   ]
  },
  {
   "cell_type": "code",
   "execution_count": 2,
   "metadata": {},
   "outputs": [],
   "source": [
    "s1 = pd.Series(['X1','X1','X2','X2','X2','X2'])\n",
    "s2 = pd.Series(['Y1','Y1','Y1','Y2','Y2','Y2'])"
   ]
  },
  {
   "cell_type": "code",
   "execution_count": 3,
   "metadata": {},
   "outputs": [
    {
     "data": {
      "text/plain": [
       "0.25"
      ]
     },
     "execution_count": 3,
     "metadata": {},
     "output_type": "execute_result"
    }
   ],
   "source": [
    "#Gini\n",
    "def getProbSS(s):\n",
    "    if not isinstance(s,pd.core.series.Series):\n",
    "        s = pd.Series(s)\n",
    "    prt_ary = np.array(s.value_counts() / len(s))\n",
    "    return sum(prt_ary ** 2)\n",
    "    \n",
    "def getGini(a1,a2):\n",
    "    assert (len(a1) == len(a2))\n",
    "    d = dict()\n",
    "    for i in list(range(len(a1))):\n",
    "        d[a1[i]] = d.get(a1[i],[]) + [a2[i]]\n",
    "    gini = 1 - sum([getProbSS(d[k])*len(d[k]) / float(len(a1)) for k in d])\n",
    "    return gini\n",
    "getGini(s1,s2)"
   ]
  },
  {
   "cell_type": "code",
   "execution_count": 4,
   "metadata": {},
   "outputs": [
    {
     "data": {
      "text/plain": [
       "1.0"
      ]
     },
     "execution_count": 4,
     "metadata": {},
     "output_type": "execute_result"
    }
   ],
   "source": [
    "#熵\n",
    "def getEntropy(s):\n",
    "    if not isinstance(s,pd.core.series.Series):\n",
    "        s = pd.Series(s)\n",
    "    prt_ary = np.array(s.value_counts() / len(s))\n",
    "    return -(prt_ary * np.log2(prt_ary)).sum()\n",
    "getEntropy(s2)"
   ]
  },
  {
   "cell_type": "code",
   "execution_count": 5,
   "metadata": {},
   "outputs": [
    {
     "data": {
      "text/plain": [
       "0.5408520829727552"
      ]
     },
     "execution_count": 5,
     "metadata": {},
     "output_type": "execute_result"
    }
   ],
   "source": [
    "#条件熵\n",
    "def getCondEntropy(a1,a2):\n",
    "    d = dict()\n",
    "    for i in list(range(len(a1))):\n",
    "        d[a1[i]] = d.get(a1[i],[])+[a2[i]]\n",
    "    return sum([getEntropy(d[k])*len(d[k]) / float(len(a1)) for k in d])\n",
    "getCondEntropy(s1,s2)"
   ]
  },
  {
   "cell_type": "code",
   "execution_count": 6,
   "metadata": {},
   "outputs": [
    {
     "data": {
      "text/plain": [
       "0.4591479170272448"
      ]
     },
     "execution_count": 6,
     "metadata": {},
     "output_type": "execute_result"
    }
   ],
   "source": [
    "#熵增益\n",
    "def getEntropyGain(a1,a2):\n",
    "    return getEntropy(a2)-getCondEntropy(a1,a2)\n",
    "getEntropyGain(s1,s2)"
   ]
  },
  {
   "cell_type": "code",
   "execution_count": 7,
   "metadata": {},
   "outputs": [
    {
     "data": {
      "text/plain": [
       "0.4591479170272448"
      ]
     },
     "execution_count": 7,
     "metadata": {},
     "output_type": "execute_result"
    }
   ],
   "source": [
    "#熵增益率\n",
    "def getEntropyGainRatio(a1,a2):\n",
    "    return getEntropyGain(a1,a2) / getEntropy(a2)\n",
    "getEntropyGainRatio(s1,s2)"
   ]
  },
  {
   "cell_type": "code",
   "execution_count": 8,
   "metadata": {},
   "outputs": [
    {
     "data": {
      "text/plain": [
       "0.4791387674918639"
      ]
     },
     "execution_count": 8,
     "metadata": {},
     "output_type": "execute_result"
    }
   ],
   "source": [
    "#相关度\n",
    "def getDiscreteRelation(a1,a2):\n",
    "    return getEntropyGain(a1,a2) / math.sqrt(getEntropy(a1)*getEntropy(a2))\n",
    "getDiscreteRelation(s1,s2)"
   ]
  },
  {
   "cell_type": "code",
   "execution_count": null,
   "metadata": {},
   "outputs": [],
   "source": []
  }
 ],
 "metadata": {
  "kernelspec": {
   "display_name": "Python 3",
   "language": "python",
   "name": "python3"
  },
  "language_info": {
   "codemirror_mode": {
    "name": "ipython",
    "version": 3
   },
   "file_extension": ".py",
   "mimetype": "text/x-python",
   "name": "python",
   "nbconvert_exporter": "python",
   "pygments_lexer": "ipython3",
   "version": "3.7.6"
  }
 },
 "nbformat": 4,
 "nbformat_minor": 4
}
