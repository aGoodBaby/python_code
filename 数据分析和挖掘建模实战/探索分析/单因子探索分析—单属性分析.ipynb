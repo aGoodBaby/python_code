{
 "cells": [
  {
   "cell_type": "code",
   "execution_count": null,
   "metadata": {},
   "outputs": [],
   "source": [
    "import numpy as np\n",
    "import pandas as pd"
   ]
  },
  {
   "cell_type": "code",
   "execution_count": null,
   "metadata": {},
   "outputs": [],
   "source": [
    "df = pd.read_csv('../Data/HR.csv')\n",
    "df.head()"
   ]
  },
  {
   "cell_type": "code",
   "execution_count": null,
   "metadata": {},
   "outputs": [],
   "source": [
    "#Satisfaction Level属性分析\n",
    "#*********************************************#\n",
    "sl_s = df['satisfaction_level']\n",
    "sl_null = sl_s.isnull()#是否为空值\n",
    "sl_s = sl_s.dropna()#丢弃空值\n",
    "sl_s = sl_s.fillna(1)#将空值填充为1\n",
    "#常用统计项\n",
    "print(sl_s.mean(),sl_s.std(),sl_s.max(),sl_s.min(),\n",
    "      sl_s.median(),sl_s.skew(),sl_s.kurt())\n",
    "#直方图示例\n",
    "print(np.histogram(sl_s.values,bins=np.arange(0.0,1.1,0.1)))\n",
    "#*********************************************#"
   ]
  },
  {
   "cell_type": "code",
   "execution_count": null,
   "metadata": {},
   "outputs": [],
   "source": [
    "#Last Evaluation属性分析\n",
    "le_s = df['last_evaluation']\n",
    "le_null = le_s[le_s.isnull()]\n",
    "print(le_s.mean(),le_s.std(),le_s.max(),le_s.min(),\n",
    "      le_s.median(),le_s.skew(),le_s.kurt())\n",
    "#*********************************************#\n",
    "#异常值过滤\n",
    "q_high = le_s.quantile(q=0.75)\n",
    "q_low = le_s.quantile(q=0.25)\n",
    "q_interval = q_high-q_low\n",
    "k = 1.5\n",
    "le_s = le_s[le_s<q_high+k*q_interval][le_s>q_low-k*q_interval]\n",
    "print(len(le_s))\n",
    "#*********************************************#\n",
    "print(np.histogram(le_s.values,bins=np.arange(0.0,1.1,0.1)))"
   ]
  },
  {
   "cell_type": "code",
   "execution_count": null,
   "metadata": {},
   "outputs": [],
   "source": [
    "#Number Project属性分析\n",
    "np_s = df['number_project']\n",
    "print(np_s.mean(),np_s.std(),np_s.median(),np_s.max(),\n",
    "      np_s.min(),np_s.skew(),np_s.kurt())\n",
    "#*********************************************#\n",
    "#统计排序\n",
    "print(np_s.value_counts(normalize=True).sort_index())\n",
    "#*********************************************#"
   ]
  },
  {
   "cell_type": "code",
   "execution_count": null,
   "metadata": {},
   "outputs": [],
   "source": [
    "#Department属性分析\n",
    "d_s = df['department']\n",
    "print(d_s.value_counts(normalize=True))\n",
    "#*********************************************#\n",
    "#去除异常值\n",
    "d_s.where(d_s!='sale').dropna()\n",
    "#*********************************************#"
   ]
  },
  {
   "cell_type": "code",
   "execution_count": null,
   "metadata": {},
   "outputs": [],
   "source": []
  },
  {
   "cell_type": "code",
   "execution_count": null,
   "metadata": {},
   "outputs": [],
   "source": [
    "#对比分析\n",
    "df = df.dropna(how='any',axis=0)\n",
    "df = df[df['last_evaluation']<=1][df['salary']!='name'][df['department']!='sale']\n",
    "print(df.groupby('department').mean())\n",
    "sub_df = df.loc[:,['last_evaluation','department']]\n",
    "print(sub_df.groupby('department')['last_evaluation'].apply(lambda x:x.max()-x.min()))"
   ]
  },
  {
   "cell_type": "code",
   "execution_count": null,
   "metadata": {},
   "outputs": [],
   "source": []
  }
 ],
 "metadata": {
  "kernelspec": {
   "display_name": "Python 3",
   "language": "python",
   "name": "python3"
  },
  "language_info": {
   "codemirror_mode": {
    "name": "ipython",
    "version": 3
   },
   "file_extension": ".py",
   "mimetype": "text/x-python",
   "name": "python",
   "nbconvert_exporter": "python",
   "pygments_lexer": "ipython3",
   "version": "3.7.6"
  }
 },
 "nbformat": 4,
 "nbformat_minor": 4
}
