{
 "cells": [
  {
   "cell_type": "code",
   "execution_count": 1,
   "metadata": {},
   "outputs": [],
   "source": [
    "import numpy as np\n",
    "import pandas as pd\n",
    "from sklearn.preprocessing import MinMaxScaler, StandardScaler\n",
    "from sklearn.preprocessing import LabelEncoder\n",
    "def hr_preprocessing(sl=False,\n",
    "                     le=False,\n",
    "                     npr=False,\n",
    "                     amh=False,\n",
    "                     tsc=False,\n",
    "                     wa=False,\n",
    "                     pl5=False,\n",
    "                     slr=False,\n",
    "                     dp=False,\n",
    "                     lower_d=False,\n",
    "                     d_1=1):\n",
    "    df = pd.read_csv('../Data/HR.csv')\n",
    "    #1、清洗数据\n",
    "    df = df.dropna(subset=['satisfaction_level', 'last_evaluation'])\n",
    "    df = df[df['satisfaction_level'] <= 1][df['salary'] != 'nme']\n",
    "    #2、得到标注\n",
    "    label = df['left']\n",
    "    df = df.drop('left', axis=1)\n",
    "    #3、特征选择\n",
    "    #4、特征处理\n",
    "    scaler_lst = [sl, le, npr, amh, tsc, wa, pl5]\n",
    "    column_lst = [\n",
    "        'satisfaction_level', 'last_evaluation', 'number_project',\n",
    "        'average_monthly_hours', 'time_spend_company', 'Work_accident',\n",
    "        'promotion_last_5years'\n",
    "    ]\n",
    "    for i in range(len(scaler_lst)):\n",
    "        if not scaler_lst[i]:\n",
    "            df[column_lst[i]] = MinMaxScaler().fit_transform(\n",
    "                df[column_lst[i]].values.reshape(-1, 1)).reshape(1, -1)[0]\n",
    "        else:\n",
    "            df[column_lst[i]] = StandardScaler().fit_transform(\n",
    "                df[column_lst[i]].values.reshape(-1, 1)).reshape(1, -1)[0]\n",
    "    scaler_lst = [slr, dp]\n",
    "    column_lst = ['salary', 'department']\n",
    "    d = dict([('low', 0), ('medium', 1), ('high', 2)])\n",
    "    for i in range(len(scaler_lst)):\n",
    "        if not scaler_lst[i]:\n",
    "            if column_lst[i] == 'salary':\n",
    "                df[column_lst[i]] = [\n",
    "                    d.get(s, 0) for s in df['salary'].values\n",
    "                ]\n",
    "            else:\n",
    "                df[column_lst[i]] = LabelEncoder().fit_transform(\n",
    "                    df[column_lst[i]])\n",
    "            df[column_lst[i]] = MinMaxScaler().fit_transform(\n",
    "                df[column_lst[i]].values.reshape(-1, 1)).reshape(1, -1)[0]\n",
    "        else:\n",
    "            df = pd.get_dummies(df, columns=[column_lst[i]])\n",
    "    if lower_d:\n",
    "        return PCA(n_components=ld_n).fit_transform(df.values), label\n",
    "    return df, label\n",
    "\n",
    "\n",
    "features,label=hr_preprocessing()"
   ]
  },
  {
   "cell_type": "code",
   "execution_count": 2,
   "metadata": {},
   "outputs": [],
   "source": [
    "from sklearn.model_selection import train_test_split\n",
    "\n",
    "def modeling_split(features, label):\n",
    "    f_v = features.values\n",
    "    l_v = label.values\n",
    "    (X_tt, X_validation,\n",
    "    Y_tt, Y_validation) = train_test_split(f_v,l_v,test_size=0.2)\n",
    "    (X_train, X_test,\n",
    "    Y_train, Y_test) = train_test_split(X_tt,Y_tt,test_size=0.25)\n",
    "    return X_train, Y_train, X_test, Y_test, X_validation, Y_validation\n",
    "\n",
    "\n",
    "(X_train, Y_train,\n",
    "X_test, Y_test,\n",
    "X_validation, Y_validation) = modeling_split(features, label)"
   ]
  },
  {
   "cell_type": "code",
   "execution_count": 3,
   "metadata": {},
   "outputs": [],
   "source": [
    "from sklearn.metrics import accuracy_score, recall_score, f1_score\n",
    "\n",
    "def modeling_evaluate(Y_part, Y_pred):\n",
    "    print(\"    ACC:\", accuracy_score(Y_part, Y_pred))\n",
    "    print(\"    REC:\", recall_score(Y_part, Y_pred))\n",
    "    print(\"     F1:\", f1_score(Y_part, Y_pred))"
   ]
  },
  {
   "cell_type": "code",
   "execution_count": 4,
   "metadata": {},
   "outputs": [],
   "source": [
    "def modeling(clf_name, clf):\n",
    "    print(\"***********\",clf_name, \"***********\")\n",
    "    clf.fit(X_train, Y_train)\n",
    "    xy_lst = [(X_train, Y_train), (X_validation, Y_validation),\n",
    "              (X_test, Y_test)]\n",
    "    xy_cate_lst = ['train', 'validation', 'test']\n",
    "    for i in range(len(xy_lst)):\n",
    "        print(xy_cate_lst[i], \":\")\n",
    "        X_part = xy_lst[i][0]\n",
    "        Y_part = xy_lst[i][1]\n",
    "        Y_pred = clf.predict(X_part)\n",
    "        modeling_evaluate(Y_part, Y_pred)"
   ]
  },
  {
   "cell_type": "code",
   "execution_count": 5,
   "metadata": {},
   "outputs": [
    {
     "name": "stdout",
     "output_type": "stream",
     "text": [
      "Coef: [0.27268022 0.26917309]\n",
      "MSE: 0.05953800649100494\n",
      "R2: 0.16759936150494903\n",
      "Coef: [0.27247571 0.268934  ]\n",
      "MSE: 0.059538014493206\n",
      "R2: 0.16759924962620698\n"
     ]
    }
   ],
   "source": [
    "from sklearn.linear_model import LinearRegression, Ridge, Lasso\n",
    "\n",
    "\n",
    "def regr_test(model, features, label):\n",
    "    regr = model\n",
    "    regr.fit(features.values, label.values)\n",
    "    Y_pred = regr.predict(features.values)\n",
    "    print('Coef:', regr.coef_)\n",
    "    from sklearn.metrics import mean_squared_error, r2_score\n",
    "    print('MSE:', mean_squared_error(label.values, Y_pred))\n",
    "    print('R2:', r2_score(label.values, Y_pred))\n",
    "\n",
    "\n",
    "regr_test(LinearRegression(),\n",
    "          features[['number_project','average_monthly_hours']], \n",
    "          features['last_evaluation'])\n",
    "regr_test(Ridge(alpha=1), \n",
    "          features[['number_project','average_monthly_hours']],\n",
    "          features['last_evaluation'])"
   ]
  },
  {
   "cell_type": "code",
   "execution_count": 6,
   "metadata": {},
   "outputs": [
    {
     "name": "stdout",
     "output_type": "stream",
     "text": [
      "*********** KNN ***********\n",
      "train :\n",
      "    ACC: 0.974886098455384\n",
      "    REC: 0.9604834960483496\n",
      "     F1: 0.9481413492427718\n",
      "validation :\n",
      "    ACC: 0.9553333333333334\n",
      "    REC: 0.908835904628331\n",
      "     F1: 0.9062937062937063\n",
      "test :\n",
      "    ACC: 0.9506666666666667\n",
      "    REC: 0.9094766619519095\n",
      "     F1: 0.8967921896792189\n"
     ]
    }
   ],
   "source": [
    "from sklearn.neighbors import KNeighborsClassifier\n",
    "modeling('KNN', KNeighborsClassifier(n_neighbors=3))"
   ]
  },
  {
   "cell_type": "code",
   "execution_count": 7,
   "metadata": {},
   "outputs": [
    {
     "name": "stdout",
     "output_type": "stream",
     "text": [
      "*********** GaussianNB ***********\n",
      "train :\n",
      "    ACC: 0.7791976886320703\n",
      "    REC: 0.7666201766620176\n",
      "     F1: 0.6240302743614002\n",
      "validation :\n",
      "    ACC: 0.7773333333333333\n",
      "    REC: 0.7601683029453016\n",
      "     F1: 0.6187214611872146\n",
      "test :\n",
      "    ACC: 0.7753333333333333\n",
      "    REC: 0.768033946251768\n",
      "     F1: 0.6170454545454546\n",
      "*********** BernoulliNB ***********\n",
      "train :\n",
      "    ACC: 0.8417601955772863\n",
      "    REC: 0.47745234774523476\n",
      "     F1: 0.5905692926969522\n",
      "validation :\n",
      "    ACC: 0.839\n",
      "    REC: 0.48106591865357645\n",
      "     F1: 0.5868263473053892\n",
      "test :\n",
      "    ACC: 0.8416666666666667\n",
      "    REC: 0.48514851485148514\n",
      "     F1: 0.5908699397071491\n"
     ]
    }
   ],
   "source": [
    "from sklearn.naive_bayes import GaussianNB,BernoulliNB\n",
    "#朴素贝叶斯适合离散值\n",
    "#伯努利适合离散值二值，高斯适合特征为高斯分布\n",
    "modeling('GaussianNB',GaussianNB())\n",
    "modeling('BernoulliNB',BernoulliNB())"
   ]
  },
  {
   "cell_type": "code",
   "execution_count": 8,
   "metadata": {},
   "outputs": [
    {
     "name": "stdout",
     "output_type": "stream",
     "text": [
      "*********** DecisionTreeGini ***********\n",
      "train :\n",
      "    ACC: 1.0\n",
      "    REC: 1.0\n",
      "     F1: 1.0\n",
      "validation :\n",
      "    ACC: 0.97\n",
      "    REC: 0.9438990182328191\n",
      "     F1: 0.9373259052924791\n",
      "test :\n",
      "    ACC: 0.975\n",
      "    REC: 0.958981612446959\n",
      "     F1: 0.9475890985324948\n",
      "*********** DecisionTreeEntropy ***********\n",
      "train :\n",
      "    ACC: 1.0\n",
      "    REC: 1.0\n",
      "     F1: 1.0\n",
      "validation :\n",
      "    ACC: 0.972\n",
      "    REC: 0.9453015427769986\n",
      "     F1: 0.941340782122905\n",
      "test :\n",
      "    ACC: 0.9793333333333333\n",
      "    REC: 0.958981612446959\n",
      "     F1: 0.9562764456981665\n"
     ]
    },
    {
     "data": {
      "image/png": "[encoded data removed]",
      "text/plain": [
       "<Figure size 432x288 with 1 Axes>"
      ]
     },
     "metadata": {
      "needs_background": "light"
     },
     "output_type": "display_data"
    }
   ],
   "source": [
    "from sklearn import tree\n",
    "\n",
    "dc_tree = tree.DecisionTreeClassifier()\n",
    "modeling('DecisionTreeGini', dc_tree)\n",
    "modeling('DecisionTreeEntropy',\n",
    "         tree.DecisionTreeClassifier(criterion='entropy'))\n",
    "\n",
    "from matplotlib import pyplot as plt\n",
    "fig = plt.figure()\n",
    "text = tree.plot_tree(dc_tree, filled='True')"
   ]
  },
  {
   "cell_type": "code",
   "execution_count": 9,
   "metadata": {},
   "outputs": [
    {
     "name": "stdout",
     "output_type": "stream",
     "text": [
      "*********** SVM Classifier ***********\n",
      "train :\n",
      "    ACC: 0.9864429381042338\n",
      "    REC: 0.9632728963272896\n",
      "     F1: 0.9714017815283638\n",
      "validation :\n",
      "    ACC: 0.9676666666666667\n",
      "    REC: 0.9186535764375876\n",
      "     F1: 0.9310589907604834\n",
      "test :\n",
      "    ACC: 0.9696666666666667\n",
      "    REC: 0.9207920792079208\n",
      "     F1: 0.934673366834171\n"
     ]
    }
   ],
   "source": [
    "from sklearn.svm import SVC\n",
    "modeling('SVM Classifier', SVC(C=1000))"
   ]
  },
  {
   "cell_type": "code",
   "execution_count": 10,
   "metadata": {},
   "outputs": [
    {
     "name": "stdout",
     "output_type": "stream",
     "text": [
      "*********** OriginalRandomForest ***********\n",
      "train :\n",
      "    ACC: 1.0\n",
      "    REC: 1.0\n",
      "     F1: 1.0\n",
      "validation :\n",
      "    ACC: 0.987\n",
      "    REC: 0.9467040673211781\n",
      "     F1: 0.9719222462203023\n",
      "test :\n",
      "    ACC: 0.986\n",
      "    REC: 0.9561527581329562\n",
      "     F1: 0.9698708751793401\n",
      "*********** RandomForest ***********\n",
      "train :\n",
      "    ACC: 0.9986665185020558\n",
      "    REC: 0.9962807996280799\n",
      "     F1: 0.9972080037226616\n",
      "validation :\n",
      "    ACC: 0.984\n",
      "    REC: 0.9481065918653576\n",
      "     F1: 0.9657142857142857\n",
      "test :\n",
      "    ACC: 0.9833333333333333\n",
      "    REC: 0.9547383309759547\n",
      "     F1: 0.9642857142857143\n"
     ]
    }
   ],
   "source": [
    "from sklearn.ensemble import RandomForestClassifier\n",
    "modeling('OriginalRandomForest', RandomForestClassifier())\n",
    "modeling('RandomForest',\n",
    "         RandomForestClassifier(n_estimators=11, max_features=None))"
   ]
  },
  {
   "cell_type": "code",
   "execution_count": 11,
   "metadata": {},
   "outputs": [
    {
     "name": "stdout",
     "output_type": "stream",
     "text": [
      "*********** Adaboost ***********\n",
      "train :\n",
      "    ACC: 0.9639959995555062\n",
      "    REC: 0.9237563923756392\n",
      "     F1: 0.9246161005118659\n",
      "validation :\n",
      "    ACC: 0.9563333333333334\n",
      "    REC: 0.9144460028050491\n",
      "     F1: 0.9087108013937282\n",
      "test :\n",
      "    ACC: 0.9576666666666667\n",
      "    REC: 0.8995756718528995\n",
      "     F1: 0.9092208720514653\n"
     ]
    }
   ],
   "source": [
    "from sklearn.ensemble import AdaBoostClassifier\n",
    "modeling('Adaboost',AdaBoostClassifier(n_estimators=100))"
   ]
  },
  {
   "cell_type": "code",
   "execution_count": 12,
   "metadata": {},
   "outputs": [
    {
     "name": "stdout",
     "output_type": "stream",
     "text": [
      "*********** LogisticRegression ***********\n",
      "train :\n",
      "    ACC: 0.7881986887431937\n",
      "    REC: 0.3509995350999535\n",
      "     F1: 0.4420374707259953\n",
      "validation :\n",
      "    ACC: 0.7983333333333333\n",
      "    REC: 0.3632538569424965\n",
      "     F1: 0.4612644701691897\n",
      "test :\n",
      "    ACC: 0.7956666666666666\n",
      "    REC: 0.36633663366336633\n",
      "     F1: 0.4580017683465959\n"
     ]
    }
   ],
   "source": [
    "from sklearn.linear_model import LogisticRegression\n",
    "modeling('LogisticRegression',\n",
    "         LogisticRegression(C=1000, tol=1e-10, solver='sag', max_iter=10000))"
   ]
  },
  {
   "cell_type": "code",
   "execution_count": 45,
   "metadata": {},
   "outputs": [],
   "source": [
    "# f_v = features.values\n",
    "# l_v = label.values\n",
    "# (X_tt, X_validation,\n",
    "# Y_tt, Y_validation) = train_test_split(f_v,l_v,test_size=0.2)\n",
    "# (X_train, X_test,\n",
    "# Y_train, Y_test) = train_test_split(X_tt,Y_tt,test_size=0.25)\n",
    "# from keras.models import Sequential\n",
    "# from keras.layers import Dense,Activation\n",
    "# from keras.optimizers import SGD\n",
    "# model=Sequential()\n",
    "# model.add(Dense(50,input_dim=len(f_v[0])))\n",
    "# model.add(Activation('sigmoid'))\n",
    "# model.add(Dense(2))\n",
    "# model.add(Activation('softmax'))\n",
    "# sgd=SGD(lr=0.1)\n",
    "# model.compile(loss='mean_squared_error',optimizer='adam')\n",
    "# model.fit(X_train,np.array([[0,1] if i==1 else [1,0] for i in Y_train]),nb_epoch=100,batch_size=8999)\n",
    "# xy_lst=[(X_train,Y_train),(X_validation,Y_validation),(X_test,Y_test)]\n",
    "# import matplotlib.pyplot as plt\n",
    "# from sklearn.metrics import roc_curve,auc,roc_auc_score\n",
    "# fig=plt.figure()\n",
    "# for i in range(len(xy_lst)):\n",
    "#     X_part=xy_lst[i][0]\n",
    "#     Y_part=xy_lst[i][1].reshape(-1,1)\n",
    "#     Y_pred=model.predict(X_part)\n",
    "#     print(Y_pred)\n",
    "#     #Y_pred=np.array(Y_pred[:,1]).reshape(1,-1)[0]\n",
    "#     print('NN','ACC:',accuracy_score(Y_part,Y_pred))\n",
    "#     print('NN','REC:',recall_score(Y_part,Y_pred))\n",
    "#     print('NN','F1:',f1_score(Y_part,Y_pred))\n",
    "    \n",
    "#     fig.add_subplot(1,3,i+1)\n",
    "#     fpr,tpr,threshold=roc_curve(Y_part,Y_pred)\n",
    "#     plt.plot(fpr,tpr)\n",
    "#     print('NN')\n",
    "#     print('AUC:',auc(fpr,tpr))\n",
    "#     print('AUC_Score',roc_auc_score(Y_part,Y_pred))\n",
    "# plt.show()"
   ]
  },
  {
   "cell_type": "code",
   "execution_count": null,
   "metadata": {},
   "outputs": [],
   "source": []
  }
 ],
 "metadata": {
  "kernelspec": {
   "display_name": "Python 3",
   "language": "python",
   "name": "python3"
  },
  "language_info": {
   "codemirror_mode": {
    "name": "ipython",
    "version": 3
   },
   "file_extension": ".py",
   "mimetype": "text/x-python",
   "name": "python",
   "nbconvert_exporter": "python",
   "pygments_lexer": "ipython3",
   "version": "3.7.6"
  }
 },
 "nbformat": 4,
 "nbformat_minor": 4
}
