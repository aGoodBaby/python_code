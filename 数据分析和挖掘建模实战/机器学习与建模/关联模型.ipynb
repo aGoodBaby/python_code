{
 "cells": [
  {
   "cell_type": "code",
   "execution_count": 8,
   "metadata": {},
   "outputs": [],
   "source": [
    "from itertools import combinations\n",
    "'''\n",
    "lst：列表类型\n",
    "return:返回lst内各元素的不同长度的组合\n",
    "'''\n",
    "def comb(lst):\n",
    "    ret = []\n",
    "    for i in range(1, len(lst) + 1):\n",
    "        ret += list(combinations(lst, i))\n",
    "    return ret"
   ]
  },
  {
   "cell_type": "code",
   "execution_count": 10,
   "metadata": {},
   "outputs": [],
   "source": [
    "class AprLayer(object):\n",
    "    def __init__(self):\n",
    "        self.d = dict()"
   ]
  },
  {
   "cell_type": "code",
   "execution_count": 47,
   "metadata": {},
   "outputs": [],
   "source": [
    "class AprNode(object):\n",
    "    def __init__(self, node):\n",
    "        self.s = set(node)\n",
    "        self.size = len(self.s)\n",
    "        self.lnk_nodes = dict()\n",
    "        self.num = 0\n",
    "\n",
    "    def __hash__(self):\n",
    "        return hash('__'.join(sorted([str(itm) for itm in list(self.s)])))\n",
    "\n",
    "    def __eq__(self, other):\n",
    "        if '__'.join(sorted([str(itm) for itm in list(self.s)])) == '__'.join(\n",
    "                sorted([str(itm) for itm in list(other.s)])):\n",
    "            return True\n",
    "        return False\n",
    "\n",
    "    def isSubnode(self, node):\n",
    "        return self.s.issubset(node.s)\n",
    "\n",
    "    def incNum(self, num=1):\n",
    "        self.num += num\n",
    "\n",
    "    def addLnk(self, node):\n",
    "        self.lnk_nodes[node] = node.s"
   ]
  },
  {
   "cell_type": "code",
   "execution_count": 53,
   "metadata": {},
   "outputs": [],
   "source": [
    "class AprBlk():\n",
    "    #建立所有的项集及其关系属性\n",
    "    def __init__(self, data):\n",
    "        cnt = 0\n",
    "        self.apr_layers = dict()\n",
    "        self.data_num = len(data)\n",
    "        for datum in data:\n",
    "            cnt += 1\n",
    "            datum = comb(datum)\n",
    "            nodes = [AprNode(da) for da in datum]\n",
    "            for node in nodes:\n",
    "                if not node.size in self.apr_layers:\n",
    "                    self.apr_layers[node.size] = AprLayer()\n",
    "                if not node in self.apr_layers[node.size].d:\n",
    "                    self.apr_layers[node.size].d[node] = node\n",
    "                self.apr_layers[node.size].d[node].incNum()\n",
    "            for node in nodes:\n",
    "                if node.size == 1:\n",
    "                    continue\n",
    "                for sn in node.s:\n",
    "                    sub_n = AprNode(node.s - set([sn]))\n",
    "                    self.apr_layers[node.size - 1].d[sub_n].addLnk(node)\n",
    "\n",
    "    def getFreqItems(self, thd=1, hd=1):\n",
    "        freq_items = []\n",
    "        for layer in self.apr_layers:\n",
    "            for node in self.apr_layers[layer].d:\n",
    "                if self.apr_layers[layer].d[node].num < thd:\n",
    "                    continue\n",
    "                freq_items.append((self.apr_layers[layer].d[node].s,\n",
    "                                   self.apr_layers[layer].d[node].num))\n",
    "        freq_items.sort(key=lambda x: x[1], reverse=True)\n",
    "        return freq_items[:hd]\n",
    "\n",
    "    def getConf(self, low=True, h_thd=10, l_thd=1, hd=1):\n",
    "        confidence = []\n",
    "        for layer in self.apr_layers:\n",
    "            for node in self.apr_layers[layer].d:\n",
    "                if self.apr_layers[layer].d[node].num < h_thd:\n",
    "                    continue\n",
    "                for lnk_node in node.lnk_nodes:\n",
    "                    if lnk_node.num < l_thd:\n",
    "                        continue\n",
    "                    conf = float(lnk_node.num) / float(node.num)\n",
    "                    confidence.append(\n",
    "                        [node.s, node.num, lnk_node.s, lnk_node.num, conf])\n",
    "        confidence.sort(key=lambda x: x[4])\n",
    "        if low:\n",
    "            return confidence[:hd]\n",
    "        else:\n",
    "            return confidence[-hd::-1]"
   ]
  },
  {
   "cell_type": "code",
   "execution_count": 54,
   "metadata": {},
   "outputs": [],
   "source": [
    "class AssctAnaClass():\n",
    "    def fit(self, data):\n",
    "        self.apr_blk = AprBlk(data)\n",
    "        return self\n",
    "\n",
    "    def get_freq(self, thd=1, hd=1):\n",
    "        return self.apr_blk.getFreqItems(thd=thd, hd=hd)\n",
    "\n",
    "    def get_conf_high(self, thd, h_thd=10):\n",
    "        return self.apr_blk.getConf(low=False, h_thd=h_thd, l_thd=thd)\n",
    "\n",
    "    def get_conf_low(self, thd, hd, l_thd=1):\n",
    "        return self.apr_blk.getConf(h_thd=thd, l_thd=l_thd, hd=hd)"
   ]
  },
  {
   "cell_type": "code",
   "execution_count": 75,
   "metadata": {},
   "outputs": [],
   "source": [
    "def main():\n",
    "    data = [[\"牛奶\", \"啤酒\", \"尿布\"], [\"牛奶\", \"啤酒\", \"咖啡\", \"尿布\"], [\"香肠\", \"牛奶\", \"饼干\"],\n",
    "            [\"尿布\", \"果汁\", \"啤酒\"], [\"钉子\", \"啤酒\"], [\"尿布\", \"毛巾\", \"香肠\"],\n",
    "            [\"啤酒\", \"毛巾\", \"尿布\", \"饼干\"]]\n",
    "    print(\"Freq\", AssctAnaClass().fit(data).get_freq(thd=3, hd=10))\n",
    "    print(\"High_Conf\", AssctAnaClass().fit(data).get_conf_high(thd=3, h_thd=3))\n",
    "    print(\"Low_Conf\",\n",
    "          AssctAnaClass().fit(data).get_conf_low(thd=3, hd=2, l_thd=2))"
   ]
  },
  {
   "cell_type": "code",
   "execution_count": 76,
   "metadata": {},
   "outputs": [
    {
     "name": "stdout",
     "output_type": "stream",
     "text": [
      "Freq [({'啤酒'}, 5), ({'尿布'}, 5), ({'啤酒', '尿布'}, 4), ({'牛奶'}, 3)]\n",
      "High_Conf [[{'尿布'}, 5, {'啤酒', '尿布'}, 4, 0.8], [{'啤酒'}, 5, {'啤酒', '尿布'}, 4, 0.8]]\n",
      "Low_Conf [[{'啤酒'}, 5, {'啤酒', '牛奶'}, 2, 0.4], [{'尿布'}, 5, {'牛奶', '尿布'}, 2, 0.4]]\n"
     ]
    }
   ],
   "source": [
    "main()"
   ]
  },
  {
   "cell_type": "code",
   "execution_count": null,
   "metadata": {},
   "outputs": [],
   "source": []
  }
 ],
 "metadata": {
  "kernelspec": {
   "display_name": "Python 3",
   "language": "python",
   "name": "python3"
  },
  "language_info": {
   "codemirror_mode": {
    "name": "ipython",
    "version": 3
   },
   "file_extension": ".py",
   "mimetype": "text/x-python",
   "name": "python",
   "nbconvert_exporter": "python",
   "pygments_lexer": "ipython3",
   "version": "3.7.6"
  }
 },
 "nbformat": 4,
 "nbformat_minor": 4
}
