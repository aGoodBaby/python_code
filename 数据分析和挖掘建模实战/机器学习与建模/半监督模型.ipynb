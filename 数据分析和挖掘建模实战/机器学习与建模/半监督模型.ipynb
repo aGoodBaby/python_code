{
 "cells": [
  {
   "cell_type": "code",
   "execution_count": 1,
   "metadata": {},
   "outputs": [],
   "source": [
    "import numpy as np\n",
    "from sklearn import datasets"
   ]
  },
  {
   "cell_type": "code",
   "execution_count": 10,
   "metadata": {},
   "outputs": [
    {
     "name": "stdout",
     "output_type": "stream",
     "text": [
      "Unlabeled Number: 102\n"
     ]
    }
   ],
   "source": [
    "iris = datasets.load_iris()\n",
    "labels = np.copy(iris.target)\n",
    "random_unlabeled_points = np.random.rand(len(iris.target))\n",
    "random_unlabeled_points = random_unlabeled_points < 0.7\n",
    "Y = labels[random_unlabeled_points]\n",
    "labels[random_unlabeled_points] = -1\n",
    "print('Unlabeled Number:', list(labels).count(-1))"
   ]
  },
  {
   "cell_type": "code",
   "execution_count": 14,
   "metadata": {},
   "outputs": [
    {
     "name": "stdout",
     "output_type": "stream",
     "text": [
      "ACC: 0.9607843137254902\n",
      "REC: 0.9607843137254902\n",
      "F-Score 0.9607843137254902\n"
     ]
    }
   ],
   "source": [
    "from sklearn.semi_supervised import LabelPropagation\n",
    "label_prop_model = LabelPropagation()\n",
    "label_prop_model.fit(iris.data, labels)\n",
    "Y_pred = label_prop_model.predict(iris.data)\n",
    "Y_pred = Y_pred[random_unlabeled_points]\n",
    "from sklearn.metrics import accuracy_score, recall_score, f1_score\n",
    "print('ACC:', accuracy_score(Y, Y_pred))\n",
    "print('REC:', recall_score(Y, Y_pred, average='micro'))\n",
    "print('F-Score', f1_score(Y, Y_pred, average='micro'))"
   ]
  },
  {
   "cell_type": "code",
   "execution_count": null,
   "metadata": {},
   "outputs": [],
   "source": []
  }
 ],
 "metadata": {
  "kernelspec": {
   "display_name": "Python 3",
   "language": "python",
   "name": "python3"
  },
  "language_info": {
   "codemirror_mode": {
    "name": "ipython",
    "version": 3
   },
   "file_extension": ".py",
   "mimetype": "text/x-python",
   "name": "python",
   "nbconvert_exporter": "python",
   "pygments_lexer": "ipython3",
   "version": "3.7.6"
  }
 },
 "nbformat": 4,
 "nbformat_minor": 4
}
