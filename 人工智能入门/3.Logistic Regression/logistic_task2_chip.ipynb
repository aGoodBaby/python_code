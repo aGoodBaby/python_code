{
 "cells": [
  {
   "cell_type": "markdown",
   "metadata": {},
   "source": [
    "# 逻辑回归预测芯片质量通过\n",
    "**任务**  \n",
    "1、基于chip_test.csv数据，建立逻辑回归模型（二阶边界），评估模型表现。  \n",
    "2、以函数的方式求解边界曲线  \n",
    "3、描绘出完整的决策边界曲线"
   ]
  },
  {
   "cell_type": "code",
   "execution_count": 1,
   "metadata": {},
   "outputs": [
    {
     "data": {
      "text/html": [
       "<div>\n",
       "<style scoped>\n",
       "    .dataframe tbody tr th:only-of-type {\n",
       "        vertical-align: middle;\n",
       "    }\n",
       "\n",
       "    .dataframe tbody tr th {\n",
       "        vertical-align: top;\n",
       "    }\n",
       "\n",
       "    .dataframe thead th {\n",
       "        text-align: right;\n",
       "    }\n",
       "</style>\n",
       "<table border=\"1\" class=\"dataframe\">\n",
       "  <thead>\n",
       "    <tr style=\"text-align: right;\">\n",
       "      <th></th>\n",
       "      <th>test1</th>\n",
       "      <th>test2</th>\n",
       "      <th>pass</th>\n",
       "    </tr>\n",
       "  </thead>\n",
       "  <tbody>\n",
       "    <tr>\n",
       "      <th>0</th>\n",
       "      <td>0.051267</td>\n",
       "      <td>0.69956</td>\n",
       "      <td>1</td>\n",
       "    </tr>\n",
       "    <tr>\n",
       "      <th>1</th>\n",
       "      <td>-0.092742</td>\n",
       "      <td>0.68494</td>\n",
       "      <td>1</td>\n",
       "    </tr>\n",
       "    <tr>\n",
       "      <th>2</th>\n",
       "      <td>-0.213710</td>\n",
       "      <td>0.69225</td>\n",
       "      <td>1</td>\n",
       "    </tr>\n",
       "    <tr>\n",
       "      <th>3</th>\n",
       "      <td>-0.375000</td>\n",
       "      <td>0.50219</td>\n",
       "      <td>1</td>\n",
       "    </tr>\n",
       "    <tr>\n",
       "      <th>4</th>\n",
       "      <td>0.183760</td>\n",
       "      <td>0.93348</td>\n",
       "      <td>0</td>\n",
       "    </tr>\n",
       "  </tbody>\n",
       "</table>\n",
       "</div>"
      ],
      "text/plain": [
       "      test1    test2  pass\n",
       "0  0.051267  0.69956     1\n",
       "1 -0.092742  0.68494     1\n",
       "2 -0.213710  0.69225     1\n",
       "3 -0.375000  0.50219     1\n",
       "4  0.183760  0.93348     0"
      ]
     },
     "execution_count": 1,
     "metadata": {},
     "output_type": "execute_result"
    }
   ],
   "source": [
    "#load the data\n",
    "import numpy as np\n",
    "import pandas as pd\n",
    "data = pd.read_csv('chip_test.csv')\n",
    "data.head()"
   ]
  },
  {
   "cell_type": "code",
   "execution_count": 2,
   "metadata": {},
   "outputs": [
    {
     "data": {
      "text/plain": [
       "<matplotlib.legend.Legend at 0x117969510>"
      ]
     },
     "execution_count": 2,
     "metadata": {},
     "output_type": "execute_result"
    },
    {
     "data": {
      "image/png": "[encoded data removed]",
      "text/plain": [
       "<Figure size 432x288 with 1 Axes>"
      ]
     },
     "metadata": {
      "needs_background": "light"
     },
     "output_type": "display_data"
    }
   ],
   "source": [
    "#add mask label\n",
    "mask = data.loc[:, 'pass'] == 1\n",
    "#visualize the data\n",
    "from matplotlib import pyplot as plt\n",
    "fig1, ax1 = plt.subplots()\n",
    "passed = plt.scatter(data.loc[:, 'test1'][mask], data.loc[:, 'test2'][mask])\n",
    "failed = plt.scatter(data.loc[:, 'test1'][~mask], data.loc[:, 'test2'][~mask])\n",
    "ax1.set_title('test1-test2')\n",
    "ax1.set_xlabel('test1')\n",
    "ax1.set_ylabel('test2')\n",
    "ax1.legend((passed, failed), ('passed', 'failed'))"
   ]
  },
  {
   "cell_type": "code",
   "execution_count": 3,
   "metadata": {},
   "outputs": [],
   "source": [
    "#define X,y\n",
    "X = data.drop(['pass'], axis=1)\n",
    "y = data.loc[:, 'pass']\n",
    "X1 = data.loc[:, 'test1']\n",
    "X2 = data.loc[:, 'test2']\n",
    "#create new data\n",
    "X1_2 = X1 * X1\n",
    "X2_2 = X2 * X2\n",
    "X1_X2 = X1 * X2\n",
    "X_new = pd.DataFrame({\n",
    "    'X1': X1,\n",
    "    'X2': X2,\n",
    "    'X1_2': X1_2,\n",
    "    'X2_2': X2_2,\n",
    "    'X1_X2': X1_X2\n",
    "})"
   ]
  },
  {
   "cell_type": "code",
   "execution_count": 4,
   "metadata": {
    "scrolled": true
   },
   "outputs": [
    {
     "data": {
      "text/plain": [
       "0.8135593220338984"
      ]
     },
     "execution_count": 4,
     "metadata": {},
     "output_type": "execute_result"
    }
   ],
   "source": [
    "#establish new model and train it\n",
    "from sklearn.linear_model import LogisticRegression\n",
    "LR2 = LogisticRegression()\n",
    "LR2.fit(X_new, y)\n",
    "#show the predicted result and its accuracy\n",
    "from sklearn.metrics import accuracy_score\n",
    "y2_predict = LR2.predict(X_new)\n",
    "accuracy2 = accuracy_score(y, y2_predict)\n",
    "accuracy2"
   ]
  },
  {
   "cell_type": "markdown",
   "metadata": {},
   "source": [
    "二阶边界函数：$\\theta_0 + \\theta_1 X_1 + \\theta_2 X_2+ \\theta_3 X_1^2 + \\theta_4 X_2^2 + \\theta_5 X_1 X_2 = 0$\n",
    "\n",
    "->$a x^2 + b x + c=0: x1 = (-b+(b^2-4ac)^.5)/2a,x2 = (-b-(b^2-4ac)^.5)/2a$\n",
    "\n",
    "->$\\theta_4 X_2^2 + (\\theta_5 X_1+ \\theta_2) X_2 + (\\theta_0 + \\theta_1 X_1 + \\theta_3 X_1^2)=0$"
   ]
  },
  {
   "cell_type": "code",
   "execution_count": 5,
   "metadata": {},
   "outputs": [
    {
     "data": {
      "image/png": "[encoded data removed]",
      "text/plain": [
       "<Figure size 432x288 with 1 Axes>"
      ]
     },
     "execution_count": 5,
     "metadata": {},
     "output_type": "execute_result"
    }
   ],
   "source": [
    "#求解边界函数\n",
    "#X1_new=X1.sort_values()\n",
    "X1_new = np.array([-0.9 + x / 10000 for x in range(0, 19000)])\n",
    "theta0 = LR2.intercept_\n",
    "theta1, theta2, theta3, theta4, theta5 = LR2.coef_[0]\n",
    "a = theta4\n",
    "b = theta5 * X1_new + theta2\n",
    "c = theta0 + theta1 * X1_new + theta3 * X1_new * X1_new\n",
    "np.seterr(invalid='ignore')\n",
    "X2_new_boundary_1 = (-b + np.sqrt(b * b - 4 * a * c)) / (2 * a)\n",
    "X2_new_boundary_2 = (-b - np.sqrt(b * b - 4 * a * c)) / (2 * a)\n",
    "ax1.plot(X1_new, X2_new_boundary_1, 'r')\n",
    "ax1.plot(X1_new, X2_new_boundary_2, 'r')\n",
    "fig1"
   ]
  }
 ],
 "metadata": {
  "kernelspec": {
   "display_name": "Python 3",
   "language": "python",
   "name": "python3"
  },
  "language_info": {
   "codemirror_mode": {
    "name": "ipython",
    "version": 3
   },
   "file_extension": ".py",
   "mimetype": "text/x-python",
   "name": "python",
   "nbconvert_exporter": "python",
   "pygments_lexer": "ipython3",
   "version": "3.7.6"
  }
 },
 "nbformat": 4,
 "nbformat_minor": 4
}
