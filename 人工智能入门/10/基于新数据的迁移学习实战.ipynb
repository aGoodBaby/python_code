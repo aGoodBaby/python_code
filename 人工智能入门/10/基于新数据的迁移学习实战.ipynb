{
 "cells": [
  {
   "cell_type": "markdown",
   "metadata": {},
   "source": [
    "# 基于新数据的迁移学习实战\n",
    "任务：基于transfer_data.csv数据，建立mlp模型，再实现模型迁移学习  \n",
    "1、实现x对y的预测，可视化结果  \n",
    "2、基于新数据transfer_data2.csv,对前模型进行二次训练，对比模型训练次数少的情况下的表现  \n",
    "模型结构：mlp，两个隐藏层，每层50个神经元，激活函数relu，输出层激活函数linear，迭代次数100次"
   ]
  },
  {
   "cell_type": "code",
   "execution_count": 1,
   "metadata": {},
   "outputs": [
    {
     "data": {
      "text/html": [
       "<div>\n",
       "<style scoped>\n",
       "    .dataframe tbody tr th:only-of-type {\n",
       "        vertical-align: middle;\n",
       "    }\n",
       "\n",
       "    .dataframe tbody tr th {\n",
       "        vertical-align: top;\n",
       "    }\n",
       "\n",
       "    .dataframe thead th {\n",
       "        text-align: right;\n",
       "    }\n",
       "</style>\n",
       "<table border=\"1\" class=\"dataframe\">\n",
       "  <thead>\n",
       "    <tr style=\"text-align: right;\">\n",
       "      <th></th>\n",
       "      <th>x</th>\n",
       "      <th>y</th>\n",
       "    </tr>\n",
       "  </thead>\n",
       "  <tbody>\n",
       "    <tr>\n",
       "      <th>0</th>\n",
       "      <td>-5.0</td>\n",
       "      <td>25.00</td>\n",
       "    </tr>\n",
       "    <tr>\n",
       "      <th>1</th>\n",
       "      <td>-4.9</td>\n",
       "      <td>24.01</td>\n",
       "    </tr>\n",
       "    <tr>\n",
       "      <th>2</th>\n",
       "      <td>-4.8</td>\n",
       "      <td>23.04</td>\n",
       "    </tr>\n",
       "    <tr>\n",
       "      <th>3</th>\n",
       "      <td>-4.7</td>\n",
       "      <td>22.09</td>\n",
       "    </tr>\n",
       "    <tr>\n",
       "      <th>4</th>\n",
       "      <td>-4.6</td>\n",
       "      <td>21.16</td>\n",
       "    </tr>\n",
       "  </tbody>\n",
       "</table>\n",
       "</div>"
      ],
      "text/plain": [
       "     x      y\n",
       "0 -5.0  25.00\n",
       "1 -4.9  24.01\n",
       "2 -4.8  23.04\n",
       "3 -4.7  22.09\n",
       "4 -4.6  21.16"
      ]
     },
     "execution_count": 1,
     "metadata": {},
     "output_type": "execute_result"
    }
   ],
   "source": [
    "#load the data\n",
    "import pandas as pd\n",
    "import numpy as np\n",
    "data = pd.read_csv('transfer_data.csv')\n",
    "data.head()"
   ]
  },
  {
   "cell_type": "code",
   "execution_count": 2,
   "metadata": {},
   "outputs": [],
   "source": [
    "#difine X and y\n",
    "X = np.array(data['x']).reshape(-1, 1)\n",
    "y = data['y']"
   ]
  },
  {
   "cell_type": "code",
   "execution_count": 3,
   "metadata": {},
   "outputs": [
    {
     "data": {
      "text/plain": [
       "Text(0, 0.5, 'y')"
      ]
     },
     "execution_count": 3,
     "metadata": {},
     "output_type": "execute_result"
    },
    {
     "data": {
      "image/png": "[encoded data removed]",
      "text/plain": [
       "<Figure size 432x288 with 1 Axes>"
      ]
     },
     "metadata": {
      "needs_background": "light"
     },
     "output_type": "display_data"
    }
   ],
   "source": [
    "#visualize the data\n",
    "from matplotlib import pyplot as plt\n",
    "plt.rcParams['font.sans-serif'] = ['SimHei']\n",
    "plt.rcParams['axes.unicode_minus'] = False\n",
    "fig = plt.figure()\n",
    "ax = fig.add_subplot()\n",
    "ax.scatter(X, y, label='data1')\n",
    "ax.set_title('y vs x')\n",
    "ax.set_xlabel('x')\n",
    "ax.set_ylabel('y')"
   ]
  },
  {
   "cell_type": "code",
   "execution_count": 5,
   "metadata": {},
   "outputs": [
    {
     "name": "stdout",
     "output_type": "stream",
     "text": [
      "Model: \"sequential_2\"\n",
      "_________________________________________________________________\n",
      "Layer (type)                 Output Shape              Param #   \n",
      "=================================================================\n",
      "dense_4 (Dense)              (None, 50)                100       \n",
      "_________________________________________________________________\n",
      "dense_5 (Dense)              (None, 50)                2550      \n",
      "_________________________________________________________________\n",
      "dense_6 (Dense)              (None, 1)                 51        \n",
      "=================================================================\n",
      "Total params: 2,701\n",
      "Trainable params: 2,701\n",
      "Non-trainable params: 0\n",
      "_________________________________________________________________\n"
     ]
    }
   ],
   "source": [
    "#set up the model\n",
    "from keras.models import Sequential\n",
    "from keras.layers import Dense\n",
    "model1 = Sequential()\n",
    "model1.add(Dense(units=50, input_dim=1, activation='relu'))\n",
    "model1.add(Dense(units=50, activation='relu'))\n",
    "model1.add(Dense(units=1, activation='linear'))\n",
    "model1.compile(optimizer='adam', loss='mean_squared_error')\n",
    "model1.summary()"
   ]
  },
  {
   "cell_type": "code",
   "execution_count": 8,
   "metadata": {},
   "outputs": [
    {
     "name": "stdout",
     "output_type": "stream",
     "text": [
      "Epoch 1/200\n",
      "101/101 [==============================] - 0s 283us/step - loss: 0.6125\n",
      "Epoch 2/200\n",
      "101/101 [==============================] - 0s 203us/step - loss: 0.5945\n",
      "Epoch 3/200\n",
      "101/101 [==============================] - 0s 222us/step - loss: 0.5784\n",
      "Epoch 4/200\n",
      "101/101 [==============================] - 0s 211us/step - loss: 0.5647\n",
      "Epoch 5/200\n",
      "101/101 [==============================] - 0s 256us/step - loss: 0.5717\n",
      "Epoch 6/200\n",
      "101/101 [==============================] - 0s 212us/step - loss: 0.5587\n",
      "Epoch 7/200\n",
      "101/101 [==============================] - 0s 229us/step - loss: 0.5463\n",
      "Epoch 8/200\n",
      "101/101 [==============================] - 0s 203us/step - loss: 0.5311\n",
      "Epoch 9/200\n",
      "101/101 [==============================] - 0s 254us/step - loss: 0.5281\n",
      "Epoch 10/200\n",
      "101/101 [==============================] - 0s 256us/step - loss: 0.5161\n",
      "Epoch 11/200\n",
      "101/101 [==============================] - 0s 282us/step - loss: 0.5015\n",
      "Epoch 12/200\n",
      "101/101 [==============================] - 0s 217us/step - loss: 0.5041\n",
      "Epoch 13/200\n",
      "101/101 [==============================] - 0s 215us/step - loss: 0.5075\n",
      "Epoch 14/200\n",
      "101/101 [==============================] - 0s 226us/step - loss: 0.5048\n",
      "Epoch 15/200\n",
      "101/101 [==============================] - 0s 439us/step - loss: 0.4741\n",
      "Epoch 16/200\n",
      "101/101 [==============================] - 0s 272us/step - loss: 0.4766\n",
      "Epoch 17/200\n",
      "101/101 [==============================] - 0s 259us/step - loss: 0.4722\n",
      "Epoch 18/200\n",
      "101/101 [==============================] - 0s 259us/step - loss: 0.4679\n",
      "Epoch 19/200\n",
      "101/101 [==============================] - 0s 234us/step - loss: 0.4449\n",
      "Epoch 20/200\n",
      "101/101 [==============================] - 0s 203us/step - loss: 0.4317\n",
      "Epoch 21/200\n",
      "101/101 [==============================] - 0s 200us/step - loss: 0.4319\n",
      "Epoch 22/200\n",
      "101/101 [==============================] - 0s 247us/step - loss: 0.4292\n",
      "Epoch 23/200\n",
      "101/101 [==============================] - 0s 345us/step - loss: 0.4206\n",
      "Epoch 24/200\n",
      "101/101 [==============================] - 0s 283us/step - loss: 0.4136\n",
      "Epoch 25/200\n",
      "101/101 [==============================] - 0s 346us/step - loss: 0.4090\n",
      "Epoch 26/200\n",
      "101/101 [==============================] - 0s 338us/step - loss: 0.3999\n",
      "Epoch 27/200\n",
      "101/101 [==============================] - 0s 373us/step - loss: 0.3875\n",
      "Epoch 28/200\n",
      "101/101 [==============================] - 0s 360us/step - loss: 0.3857\n",
      "Epoch 29/200\n",
      "101/101 [==============================] - 0s 271us/step - loss: 0.3811\n",
      "Epoch 30/200\n",
      "101/101 [==============================] - 0s 243us/step - loss: 0.3726\n",
      "Epoch 31/200\n",
      "101/101 [==============================] - 0s 241us/step - loss: 0.3716\n",
      "Epoch 32/200\n",
      "101/101 [==============================] - 0s 301us/step - loss: 0.3706\n",
      "Epoch 33/200\n",
      "101/101 [==============================] - 0s 318us/step - loss: 0.3626\n",
      "Epoch 34/200\n",
      "101/101 [==============================] - 0s 341us/step - loss: 0.3521\n",
      "Epoch 35/200\n",
      "101/101 [==============================] - 0s 371us/step - loss: 0.3410\n",
      "Epoch 36/200\n",
      "101/101 [==============================] - 0s 284us/step - loss: 0.3523\n",
      "Epoch 37/200\n",
      "101/101 [==============================] - 0s 284us/step - loss: 0.3540\n",
      "Epoch 38/200\n",
      "101/101 [==============================] - 0s 226us/step - loss: 0.3441\n",
      "Epoch 39/200\n",
      "101/101 [==============================] - 0s 234us/step - loss: 0.3353\n",
      "Epoch 40/200\n",
      "101/101 [==============================] - 0s 245us/step - loss: 0.3413\n",
      "Epoch 41/200\n",
      "101/101 [==============================] - 0s 194us/step - loss: 0.3328\n",
      "Epoch 42/200\n",
      "101/101 [==============================] - 0s 229us/step - loss: 0.3103\n",
      "Epoch 43/200\n",
      "101/101 [==============================] - 0s 212us/step - loss: 0.3026\n",
      "Epoch 44/200\n",
      "101/101 [==============================] - 0s 248us/step - loss: 0.3124\n",
      "Epoch 45/200\n",
      "101/101 [==============================] - 0s 265us/step - loss: 0.3175\n",
      "Epoch 46/200\n",
      "101/101 [==============================] - 0s 240us/step - loss: 0.3090\n",
      "Epoch 47/200\n",
      "101/101 [==============================] - 0s 218us/step - loss: 0.2973\n",
      "Epoch 48/200\n",
      "101/101 [==============================] - 0s 226us/step - loss: 0.2841\n",
      "Epoch 49/200\n",
      "101/101 [==============================] - 0s 231us/step - loss: 0.2784\n",
      "Epoch 50/200\n",
      "101/101 [==============================] - 0s 262us/step - loss: 0.2757\n",
      "Epoch 51/200\n",
      "101/101 [==============================] - 0s 257us/step - loss: 0.2765\n",
      "Epoch 52/200\n",
      "101/101 [==============================] - 0s 213us/step - loss: 0.2695\n",
      "Epoch 53/200\n",
      "101/101 [==============================] - 0s 204us/step - loss: 0.2612\n",
      "Epoch 54/200\n",
      "101/101 [==============================] - 0s 222us/step - loss: 0.2763\n",
      "Epoch 55/200\n",
      "101/101 [==============================] - 0s 240us/step - loss: 0.2725\n",
      "Epoch 56/200\n",
      "101/101 [==============================] - 0s 275us/step - loss: 0.2756\n",
      "Epoch 57/200\n",
      "101/101 [==============================] - 0s 245us/step - loss: 0.2481\n",
      "Epoch 58/200\n",
      "101/101 [==============================] - 0s 248us/step - loss: 0.2568\n",
      "Epoch 59/200\n",
      "101/101 [==============================] - 0s 242us/step - loss: 0.2707\n",
      "Epoch 60/200\n",
      "101/101 [==============================] - 0s 254us/step - loss: 0.2525\n",
      "Epoch 61/200\n",
      "101/101 [==============================] - 0s 247us/step - loss: 0.2537\n",
      "Epoch 62/200\n",
      "101/101 [==============================] - 0s 234us/step - loss: 0.2417\n",
      "Epoch 63/200\n",
      "101/101 [==============================] - 0s 240us/step - loss: 0.2389\n",
      "Epoch 64/200\n",
      "101/101 [==============================] - 0s 228us/step - loss: 0.2364\n",
      "Epoch 65/200\n",
      "101/101 [==============================] - 0s 234us/step - loss: 0.2234\n",
      "Epoch 66/200\n",
      "101/101 [==============================] - 0s 227us/step - loss: 0.2187\n",
      "Epoch 67/200\n",
      "101/101 [==============================] - 0s 253us/step - loss: 0.2225\n",
      "Epoch 68/200\n",
      "101/101 [==============================] - 0s 261us/step - loss: 0.2180\n",
      "Epoch 69/200\n",
      "101/101 [==============================] - 0s 243us/step - loss: 0.2118\n",
      "Epoch 70/200\n",
      "101/101 [==============================] - 0s 250us/step - loss: 0.2132\n",
      "Epoch 71/200\n",
      "101/101 [==============================] - 0s 234us/step - loss: 0.2020\n",
      "Epoch 72/200\n",
      "101/101 [==============================] - 0s 233us/step - loss: 0.2032\n",
      "Epoch 73/200\n",
      "101/101 [==============================] - 0s 228us/step - loss: 0.2197\n",
      "Epoch 74/200\n",
      "101/101 [==============================] - 0s 213us/step - loss: 0.2113\n",
      "Epoch 75/200\n",
      "101/101 [==============================] - 0s 227us/step - loss: 0.1985\n",
      "Epoch 76/200\n",
      "101/101 [==============================] - 0s 232us/step - loss: 0.1975\n",
      "Epoch 77/200\n",
      "101/101 [==============================] - 0s 246us/step - loss: 0.2139\n",
      "Epoch 78/200\n",
      "101/101 [==============================] - 0s 234us/step - loss: 0.1935\n",
      "Epoch 79/200\n",
      "101/101 [==============================] - 0s 243us/step - loss: 0.1951\n",
      "Epoch 80/200\n",
      "101/101 [==============================] - 0s 227us/step - loss: 0.1991\n",
      "Epoch 81/200\n",
      "101/101 [==============================] - 0s 258us/step - loss: 0.1922\n",
      "Epoch 82/200\n",
      "101/101 [==============================] - 0s 273us/step - loss: 0.2062\n",
      "Epoch 83/200\n",
      "101/101 [==============================] - 0s 265us/step - loss: 0.1788\n",
      "Epoch 84/200\n",
      "101/101 [==============================] - 0s 307us/step - loss: 0.1777\n",
      "Epoch 85/200\n",
      "101/101 [==============================] - 0s 348us/step - loss: 0.1833\n",
      "Epoch 86/200\n",
      "101/101 [==============================] - 0s 309us/step - loss: 0.1729\n",
      "Epoch 87/200\n",
      "101/101 [==============================] - 0s 239us/step - loss: 0.1685\n",
      "Epoch 88/200\n",
      "101/101 [==============================] - 0s 207us/step - loss: 0.1651\n",
      "Epoch 89/200\n",
      "101/101 [==============================] - 0s 197us/step - loss: 0.1600\n",
      "Epoch 90/200\n",
      "101/101 [==============================] - 0s 273us/step - loss: 0.1688\n",
      "Epoch 91/200\n",
      "101/101 [==============================] - 0s 237us/step - loss: 0.1859\n",
      "Epoch 92/200\n",
      "101/101 [==============================] - 0s 232us/step - loss: 0.1627\n",
      "Epoch 93/200\n",
      "101/101 [==============================] - 0s 191us/step - loss: 0.1620\n",
      "Epoch 94/200\n",
      "101/101 [==============================] - 0s 153us/step - loss: 0.1706\n",
      "Epoch 95/200\n",
      "101/101 [==============================] - 0s 162us/step - loss: 0.1509\n",
      "Epoch 96/200\n",
      "101/101 [==============================] - 0s 256us/step - loss: 0.1560\n",
      "Epoch 97/200\n"
     ]
    },
    {
     "name": "stdout",
     "output_type": "stream",
     "text": [
      "101/101 [==============================] - 0s 223us/step - loss: 0.1505\n",
      "Epoch 98/200\n",
      "101/101 [==============================] - 0s 235us/step - loss: 0.1460\n",
      "Epoch 99/200\n",
      "101/101 [==============================] - 0s 253us/step - loss: 0.1412\n",
      "Epoch 100/200\n",
      "101/101 [==============================] - 0s 288us/step - loss: 0.1416\n",
      "Epoch 101/200\n",
      "101/101 [==============================] - 0s 253us/step - loss: 0.1365\n",
      "Epoch 102/200\n",
      "101/101 [==============================] - 0s 245us/step - loss: 0.1385\n",
      "Epoch 103/200\n",
      "101/101 [==============================] - 0s 300us/step - loss: 0.1451\n",
      "Epoch 104/200\n",
      "101/101 [==============================] - 0s 219us/step - loss: 0.1464\n",
      "Epoch 105/200\n",
      "101/101 [==============================] - 0s 190us/step - loss: 0.1348\n",
      "Epoch 106/200\n",
      "101/101 [==============================] - 0s 174us/step - loss: 0.1319\n",
      "Epoch 107/200\n",
      "101/101 [==============================] - 0s 167us/step - loss: 0.1364\n",
      "Epoch 108/200\n",
      "101/101 [==============================] - 0s 201us/step - loss: 0.1310\n",
      "Epoch 109/200\n",
      "101/101 [==============================] - 0s 160us/step - loss: 0.1274\n",
      "Epoch 110/200\n",
      "101/101 [==============================] - 0s 168us/step - loss: 0.1272\n",
      "Epoch 111/200\n",
      "101/101 [==============================] - 0s 260us/step - loss: 0.1235\n",
      "Epoch 112/200\n",
      "101/101 [==============================] - 0s 255us/step - loss: 0.1195\n",
      "Epoch 113/200\n",
      "101/101 [==============================] - 0s 259us/step - loss: 0.1243\n",
      "Epoch 114/200\n",
      "101/101 [==============================] - 0s 281us/step - loss: 0.1221\n",
      "Epoch 115/200\n",
      "101/101 [==============================] - 0s 222us/step - loss: 0.1192\n",
      "Epoch 116/200\n",
      "101/101 [==============================] - 0s 246us/step - loss: 0.1255\n",
      "Epoch 117/200\n",
      "101/101 [==============================] - 0s 263us/step - loss: 0.1208\n",
      "Epoch 118/200\n",
      "101/101 [==============================] - 0s 241us/step - loss: 0.1199\n",
      "Epoch 119/200\n",
      "101/101 [==============================] - 0s 248us/step - loss: 0.1177\n",
      "Epoch 120/200\n",
      "101/101 [==============================] - 0s 233us/step - loss: 0.1164\n",
      "Epoch 121/200\n",
      "101/101 [==============================] - 0s 208us/step - loss: 0.1126\n",
      "Epoch 122/200\n",
      "101/101 [==============================] - 0s 245us/step - loss: 0.1072\n",
      "Epoch 123/200\n",
      "101/101 [==============================] - 0s 274us/step - loss: 0.1113\n",
      "Epoch 124/200\n",
      "101/101 [==============================] - 0s 221us/step - loss: 0.1108\n",
      "Epoch 125/200\n",
      "101/101 [==============================] - 0s 232us/step - loss: 0.1088\n",
      "Epoch 126/200\n",
      "101/101 [==============================] - 0s 207us/step - loss: 0.1075\n",
      "Epoch 127/200\n",
      "101/101 [==============================] - 0s 193us/step - loss: 0.1135\n",
      "Epoch 128/200\n",
      "101/101 [==============================] - 0s 232us/step - loss: 0.1080\n",
      "Epoch 129/200\n",
      "101/101 [==============================] - 0s 214us/step - loss: 0.1100\n",
      "Epoch 130/200\n",
      "101/101 [==============================] - 0s 209us/step - loss: 0.1122\n",
      "Epoch 131/200\n",
      "101/101 [==============================] - 0s 235us/step - loss: 0.1051\n",
      "Epoch 132/200\n",
      "101/101 [==============================] - 0s 202us/step - loss: 0.1003\n",
      "Epoch 133/200\n",
      "101/101 [==============================] - 0s 197us/step - loss: 0.0989\n",
      "Epoch 134/200\n",
      "101/101 [==============================] - 0s 179us/step - loss: 0.1001\n",
      "Epoch 135/200\n",
      "101/101 [==============================] - 0s 220us/step - loss: 0.1145\n",
      "Epoch 136/200\n",
      "101/101 [==============================] - 0s 202us/step - loss: 0.0985\n",
      "Epoch 137/200\n",
      "101/101 [==============================] - 0s 286us/step - loss: 0.1065\n",
      "Epoch 138/200\n",
      "101/101 [==============================] - 0s 305us/step - loss: 0.1068\n",
      "Epoch 139/200\n",
      "101/101 [==============================] - 0s 251us/step - loss: 0.1170\n",
      "Epoch 140/200\n",
      "101/101 [==============================] - 0s 211us/step - loss: 0.1045\n",
      "Epoch 141/200\n",
      "101/101 [==============================] - 0s 287us/step - loss: 0.0907\n",
      "Epoch 142/200\n",
      "101/101 [==============================] - 0s 268us/step - loss: 0.0904\n",
      "Epoch 143/200\n",
      "101/101 [==============================] - 0s 247us/step - loss: 0.0860\n",
      "Epoch 144/200\n",
      "101/101 [==============================] - 0s 242us/step - loss: 0.0862\n",
      "Epoch 145/200\n",
      "101/101 [==============================] - 0s 174us/step - loss: 0.0879\n",
      "Epoch 146/200\n",
      "101/101 [==============================] - 0s 210us/step - loss: 0.0843\n",
      "Epoch 147/200\n",
      "101/101 [==============================] - 0s 188us/step - loss: 0.0915\n",
      "Epoch 148/200\n",
      "101/101 [==============================] - 0s 210us/step - loss: 0.0871\n",
      "Epoch 149/200\n",
      "101/101 [==============================] - 0s 196us/step - loss: 0.0807\n",
      "Epoch 150/200\n",
      "101/101 [==============================] - 0s 183us/step - loss: 0.0835\n",
      "Epoch 151/200\n",
      "101/101 [==============================] - 0s 171us/step - loss: 0.0821\n",
      "Epoch 152/200\n",
      "101/101 [==============================] - 0s 204us/step - loss: 0.0998\n",
      "Epoch 153/200\n",
      "101/101 [==============================] - 0s 185us/step - loss: 0.0892\n",
      "Epoch 154/200\n",
      "101/101 [==============================] - 0s 174us/step - loss: 0.0770\n",
      "Epoch 155/200\n",
      "101/101 [==============================] - 0s 179us/step - loss: 0.0826\n",
      "Epoch 156/200\n",
      "101/101 [==============================] - 0s 178us/step - loss: 0.0841\n",
      "Epoch 157/200\n",
      "101/101 [==============================] - 0s 190us/step - loss: 0.0815\n",
      "Epoch 158/200\n",
      "101/101 [==============================] - 0s 226us/step - loss: 0.0776\n",
      "Epoch 159/200\n",
      "101/101 [==============================] - 0s 183us/step - loss: 0.0753\n",
      "Epoch 160/200\n",
      "101/101 [==============================] - 0s 186us/step - loss: 0.0724\n",
      "Epoch 161/200\n",
      "101/101 [==============================] - 0s 187us/step - loss: 0.0743\n",
      "Epoch 162/200\n",
      "101/101 [==============================] - 0s 181us/step - loss: 0.0721\n",
      "Epoch 163/200\n",
      "101/101 [==============================] - 0s 192us/step - loss: 0.0721\n",
      "Epoch 164/200\n",
      "101/101 [==============================] - 0s 220us/step - loss: 0.0709\n",
      "Epoch 165/200\n",
      "101/101 [==============================] - 0s 171us/step - loss: 0.0697\n",
      "Epoch 166/200\n",
      "101/101 [==============================] - 0s 180us/step - loss: 0.0678\n",
      "Epoch 167/200\n",
      "101/101 [==============================] - 0s 165us/step - loss: 0.0665\n",
      "Epoch 168/200\n",
      "101/101 [==============================] - 0s 178us/step - loss: 0.0657\n",
      "Epoch 169/200\n",
      "101/101 [==============================] - 0s 179us/step - loss: 0.0673\n",
      "Epoch 170/200\n",
      "101/101 [==============================] - 0s 247us/step - loss: 0.0742\n",
      "Epoch 171/200\n",
      "101/101 [==============================] - 0s 262us/step - loss: 0.0654\n",
      "Epoch 172/200\n",
      "101/101 [==============================] - 0s 200us/step - loss: 0.0721\n",
      "Epoch 173/200\n",
      "101/101 [==============================] - 0s 182us/step - loss: 0.0684\n",
      "Epoch 174/200\n",
      "101/101 [==============================] - 0s 196us/step - loss: 0.0643\n",
      "Epoch 175/200\n",
      "101/101 [==============================] - 0s 184us/step - loss: 0.0680\n",
      "Epoch 176/200\n",
      "101/101 [==============================] - 0s 224us/step - loss: 0.0694\n",
      "Epoch 177/200\n",
      "101/101 [==============================] - 0s 180us/step - loss: 0.0663\n",
      "Epoch 178/200\n",
      "101/101 [==============================] - 0s 179us/step - loss: 0.0663\n",
      "Epoch 179/200\n",
      "101/101 [==============================] - 0s 196us/step - loss: 0.0631\n",
      "Epoch 180/200\n",
      "101/101 [==============================] - 0s 184us/step - loss: 0.0642\n",
      "Epoch 181/200\n",
      "101/101 [==============================] - 0s 179us/step - loss: 0.0609\n",
      "Epoch 182/200\n",
      "101/101 [==============================] - 0s 214us/step - loss: 0.0591\n",
      "Epoch 183/200\n",
      "101/101 [==============================] - 0s 195us/step - loss: 0.0597\n",
      "Epoch 184/200\n",
      "101/101 [==============================] - 0s 211us/step - loss: 0.0604\n",
      "Epoch 185/200\n",
      "101/101 [==============================] - 0s 232us/step - loss: 0.0557\n",
      "Epoch 186/200\n",
      "101/101 [==============================] - 0s 269us/step - loss: 0.0551\n",
      "Epoch 187/200\n",
      "101/101 [==============================] - 0s 301us/step - loss: 0.0571\n",
      "Epoch 188/200\n",
      "101/101 [==============================] - 0s 268us/step - loss: 0.0560\n",
      "Epoch 189/200\n",
      "101/101 [==============================] - 0s 228us/step - loss: 0.0562\n",
      "Epoch 190/200\n",
      "101/101 [==============================] - 0s 227us/step - loss: 0.0558\n",
      "Epoch 191/200\n",
      "101/101 [==============================] - 0s 174us/step - loss: 0.0526\n",
      "Epoch 192/200\n"
     ]
    },
    {
     "name": "stdout",
     "output_type": "stream",
     "text": [
      "101/101 [==============================] - 0s 206us/step - loss: 0.0577\n",
      "Epoch 193/200\n",
      "101/101 [==============================] - 0s 192us/step - loss: 0.0540\n",
      "Epoch 194/200\n",
      "101/101 [==============================] - 0s 195us/step - loss: 0.0528\n",
      "Epoch 195/200\n",
      "101/101 [==============================] - 0s 245us/step - loss: 0.0514\n",
      "Epoch 196/200\n",
      "101/101 [==============================] - 0s 180us/step - loss: 0.0500\n",
      "Epoch 197/200\n",
      "101/101 [==============================] - 0s 204us/step - loss: 0.0498\n",
      "Epoch 198/200\n",
      "101/101 [==============================] - 0s 233us/step - loss: 0.0501\n",
      "Epoch 199/200\n",
      "101/101 [==============================] - 0s 214us/step - loss: 0.0494\n",
      "Epoch 200/200\n",
      "101/101 [==============================] - 0s 192us/step - loss: 0.0550\n"
     ]
    },
    {
     "data": {
      "text/plain": [
       "<keras.callbacks.callbacks.History at 0x10bf14a10>"
      ]
     },
     "execution_count": 8,
     "metadata": {},
     "output_type": "execute_result"
    }
   ],
   "source": [
    "#train the model\n",
    "import os\n",
    "os.environ['KMP_DUPLICATE_LIB_OK'] = 'TRUE'\n",
    "model1.fit(X, y, epochs=200)"
   ]
  },
  {
   "cell_type": "code",
   "execution_count": 7,
   "metadata": {},
   "outputs": [
    {
     "data": {
      "image/png": "[encoded data removed]",
      "text/plain": [
       "<Figure size 432x288 with 1 Axes>"
      ]
     },
     "execution_count": 7,
     "metadata": {},
     "output_type": "execute_result"
    }
   ],
   "source": [
    "#make prediction\n",
    "y_predict = model1.predict(X)\n",
    "ax.plot(X, y_predict, 'g', label='predict1 epochs=200')\n",
    "ax.legend()\n",
    "fig"
   ]
  },
  {
   "cell_type": "code",
   "execution_count": 9,
   "metadata": {},
   "outputs": [
    {
     "data": {
      "image/png": "[encoded data removed]",
      "text/plain": [
       "<Figure size 432x288 with 1 Axes>"
      ]
     },
     "execution_count": 9,
     "metadata": {},
     "output_type": "execute_result"
    }
   ],
   "source": [
    "y_predict = model1.predict(X)\n",
    "ax.plot(X, y_predict, 'r', label='predict1 epochs=400')\n",
    "ax.legend()\n",
    "fig"
   ]
  },
  {
   "cell_type": "code",
   "execution_count": 11,
   "metadata": {},
   "outputs": [
    {
     "data": {
      "text/plain": [
       "['model1.m']"
      ]
     },
     "execution_count": 11,
     "metadata": {},
     "output_type": "execute_result"
    }
   ],
   "source": [
    "from sklearn.externals import joblib\n",
    "joblib.dump(model1, 'model1.m')"
   ]
  },
  {
   "cell_type": "code",
   "execution_count": 12,
   "metadata": {},
   "outputs": [],
   "source": [
    "model2 = joblib.load('model1.m')\n",
    "data2 = pd.read_csv('transfer_data2.csv')\n",
    "X2 = np.array(data2['x2']).reshape(-1, 1)\n",
    "y2 = data2['y2']"
   ]
  },
  {
   "cell_type": "code",
   "execution_count": 13,
   "metadata": {},
   "outputs": [
    {
     "data": {
      "image/png": "[encoded data removed]",
      "text/plain": [
       "<Figure size 432x288 with 1 Axes>"
      ]
     },
     "execution_count": 13,
     "metadata": {},
     "output_type": "execute_result"
    }
   ],
   "source": [
    "y2_predict = model2.predict(X2)\n",
    "ax.scatter(X2, y2, label='data2')\n",
    "ax.legend()\n",
    "fig"
   ]
  },
  {
   "cell_type": "code",
   "execution_count": 16,
   "metadata": {},
   "outputs": [
    {
     "name": "stdout",
     "output_type": "stream",
     "text": [
      "Epoch 1/20\n",
      "101/101 [==============================] - 0s 278us/step - loss: 2.5044\n",
      "Epoch 2/20\n",
      "101/101 [==============================] - 0s 217us/step - loss: 2.2411\n",
      "Epoch 3/20\n",
      "101/101 [==============================] - 0s 208us/step - loss: 2.0223\n",
      "Epoch 4/20\n",
      "101/101 [==============================] - 0s 203us/step - loss: 1.7916\n",
      "Epoch 5/20\n",
      "101/101 [==============================] - 0s 203us/step - loss: 1.5801\n",
      "Epoch 6/20\n",
      "101/101 [==============================] - 0s 202us/step - loss: 1.3992\n",
      "Epoch 7/20\n",
      "101/101 [==============================] - 0s 191us/step - loss: 1.2505\n",
      "Epoch 8/20\n",
      "101/101 [==============================] - 0s 219us/step - loss: 1.1192\n",
      "Epoch 9/20\n",
      "101/101 [==============================] - 0s 216us/step - loss: 1.0075\n",
      "Epoch 10/20\n",
      "101/101 [==============================] - 0s 211us/step - loss: 0.8957\n",
      "Epoch 11/20\n",
      "101/101 [==============================] - 0s 298us/step - loss: 0.8079\n",
      "Epoch 12/20\n",
      "101/101 [==============================] - 0s 224us/step - loss: 0.7300\n",
      "Epoch 13/20\n",
      "101/101 [==============================] - 0s 231us/step - loss: 0.6493\n",
      "Epoch 14/20\n",
      "101/101 [==============================] - 0s 260us/step - loss: 0.5938\n",
      "Epoch 15/20\n",
      "101/101 [==============================] - 0s 455us/step - loss: 0.5355\n",
      "Epoch 16/20\n",
      "101/101 [==============================] - 0s 318us/step - loss: 0.4999\n",
      "Epoch 17/20\n",
      "101/101 [==============================] - 0s 220us/step - loss: 0.4512\n",
      "Epoch 18/20\n",
      "101/101 [==============================] - 0s 209us/step - loss: 0.4214\n",
      "Epoch 19/20\n",
      "101/101 [==============================] - 0s 225us/step - loss: 0.3905\n",
      "Epoch 20/20\n",
      "101/101 [==============================] - 0s 235us/step - loss: 0.3671\n"
     ]
    },
    {
     "data": {
      "text/plain": [
       "<keras.callbacks.callbacks.History at 0x1a446dc550>"
      ]
     },
     "execution_count": 16,
     "metadata": {},
     "output_type": "execute_result"
    }
   ],
   "source": [
    "model2.fit(X2, y2, epochs=20)"
   ]
  },
  {
   "cell_type": "code",
   "execution_count": 15,
   "metadata": {},
   "outputs": [
    {
     "data": {
      "image/png": "[encoded data removed]",
      "text/plain": [
       "<Figure size 432x288 with 1 Axes>"
      ]
     },
     "execution_count": 15,
     "metadata": {},
     "output_type": "execute_result"
    }
   ],
   "source": [
    "y2_predict = model2.predict(X2)\n",
    "ax.plot(X2, y2_predict, label='predict2 epochs=20')\n",
    "ax.legend()\n",
    "fig"
   ]
  },
  {
   "cell_type": "code",
   "execution_count": 17,
   "metadata": {},
   "outputs": [
    {
     "data": {
      "image/png": "[encoded data removed]",
      "text/plain": [
       "<Figure size 432x288 with 1 Axes>"
      ]
     },
     "execution_count": 17,
     "metadata": {},
     "output_type": "execute_result"
    }
   ],
   "source": [
    "y2_predict = model2.predict(X2)\n",
    "ax.plot(X2, y2_predict, label='predict2 epochs=40')\n",
    "ax.legend()\n",
    "fig"
   ]
  },
  {
   "cell_type": "markdown",
   "metadata": {},
   "source": [
    "基于新数据的迁移学习实战summary:  \n",
    "1、通过使用新数据，实现了模型的2次训练，达到了较好的预测效果  \n",
    "2、建立mlp模型实现了非线性分布数据的回归预测  \n",
    "3、掌握了模型存储与加载的方法  \n",
    "4、通过迁移学习，可减少模型训练迭代次数，大幅缩短训练时间  "
   ]
  },
  {
   "cell_type": "code",
   "execution_count": null,
   "metadata": {},
   "outputs": [],
   "source": []
  }
 ],
 "metadata": {
  "kernelspec": {
   "display_name": "Python 3",
   "language": "python",
   "name": "python3"
  },
  "language_info": {
   "codemirror_mode": {
    "name": "ipython",
    "version": 3
   },
   "file_extension": ".py",
   "mimetype": "text/x-python",
   "name": "python",
   "nbconvert_exporter": "python",
   "pygments_lexer": "ipython3",
   "version": "3.7.6"
  }
 },
 "nbformat": 4,
 "nbformat_minor": 4
}
